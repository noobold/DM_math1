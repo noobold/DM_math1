{
 "cells": [
  {
   "cell_type": "markdown",
   "id": "c6f73f39",
   "metadata": {},
   "source": [
    "## DM 2 de math"
   ]
  },
  {
   "cell_type": "code",
   "execution_count": 1,
   "id": "8c59faeb",
   "metadata": {},
   "outputs": [],
   "source": [
    "#import bibliothèaues\n",
    "import pandas as pd"
   ]
  },
  {
   "cell_type": "code",
   "execution_count": 2,
   "id": "a540aa3e",
   "metadata": {},
   "outputs": [],
   "source": [
    "#création dataset\n",
    "dataDM2 = pd.DataFrame([[\"Norvège\",\"Royaume-Uni\",\"Danemark\",\"Italie\",\"France\"]\n",
    "                        ,[0.0285,2490,249000,17830]\n",
    "                        ,[\"Tonne\",\"dag\",\"dg\",\"g\"]]\n",
    "                       ,index=[\"pays\",\"qté_déchets\",\"unité\"])"
   ]
  },
  {
   "cell_type": "markdown",
   "id": "98eb5e20",
   "metadata": {},
   "source": [
    "### Dataset"
   ]
  },
  {
   "cell_type": "code",
   "execution_count": 3,
   "id": "b7fb818c",
   "metadata": {},
   "outputs": [
    {
     "data": {
      "text/html": [
       "<div>\n",
       "<style scoped>\n",
       "    .dataframe tbody tr th:only-of-type {\n",
       "        vertical-align: middle;\n",
       "    }\n",
       "\n",
       "    .dataframe tbody tr th {\n",
       "        vertical-align: top;\n",
       "    }\n",
       "\n",
       "    .dataframe thead th {\n",
       "        text-align: right;\n",
       "    }\n",
       "</style>\n",
       "<table border=\"1\" class=\"dataframe\">\n",
       "  <thead>\n",
       "    <tr style=\"text-align: right;\">\n",
       "      <th></th>\n",
       "      <th>0</th>\n",
       "      <th>1</th>\n",
       "      <th>2</th>\n",
       "      <th>3</th>\n",
       "      <th>4</th>\n",
       "    </tr>\n",
       "  </thead>\n",
       "  <tbody>\n",
       "    <tr>\n",
       "      <th>pays</th>\n",
       "      <td>Norvège</td>\n",
       "      <td>Royaume-Uni</td>\n",
       "      <td>Danemark</td>\n",
       "      <td>Italie</td>\n",
       "      <td>France</td>\n",
       "    </tr>\n",
       "    <tr>\n",
       "      <th>qté_déchets</th>\n",
       "      <td>0.0285</td>\n",
       "      <td>2490</td>\n",
       "      <td>249000</td>\n",
       "      <td>17830</td>\n",
       "      <td>None</td>\n",
       "    </tr>\n",
       "    <tr>\n",
       "      <th>unité</th>\n",
       "      <td>Tonne</td>\n",
       "      <td>dag</td>\n",
       "      <td>dg</td>\n",
       "      <td>g</td>\n",
       "      <td>None</td>\n",
       "    </tr>\n",
       "  </tbody>\n",
       "</table>\n",
       "</div>"
      ],
      "text/plain": [
       "                   0            1         2       3       4\n",
       "pays         Norvège  Royaume-Uni  Danemark  Italie  France\n",
       "qté_déchets   0.0285         2490    249000   17830    None\n",
       "unité          Tonne          dag        dg       g    None"
      ]
     },
     "execution_count": 3,
     "metadata": {},
     "output_type": "execute_result"
    }
   ],
   "source": [
    "dataDM2.head()"
   ]
  },
  {
   "cell_type": "markdown",
   "id": "b2c217b1",
   "metadata": {},
   "source": [
    "### Question 1 : déchets  par jour par tout les français"
   ]
  },
  {
   "cell_type": "code",
   "execution_count": 4,
   "id": "9c65919a",
   "metadata": {},
   "outputs": [
    {
     "name": "stdout",
     "output_type": "stream",
     "text": [
      "La france jette 3942623 kg de déchet electronique par jour\n",
      "La france jette 3943 t de déchet electronique par jour\n"
     ]
    }
   ],
   "source": [
    "dechet_total = 1443000000\n",
    "nbrejour = 366\n",
    "print(\"La france jette\",round(dechet_total/nbrejour),\"kg de déchet electronique par jour\")\n",
    "print(\"La france jette\",round(dechet_total/nbrejour/1000),\"t de déchet electronique par jour\")"
   ]
  },
  {
   "cell_type": "markdown",
   "id": "c4bb95f2",
   "metadata": {},
   "source": [
    "### Question 2 : déchets  par français par an"
   ]
  },
  {
   "cell_type": "code",
   "execution_count": 5,
   "id": "c1a5eaf8",
   "metadata": {},
   "outputs": [
    {
     "data": {
      "text/html": [
       "<div>\n",
       "<style scoped>\n",
       "    .dataframe tbody tr th:only-of-type {\n",
       "        vertical-align: middle;\n",
       "    }\n",
       "\n",
       "    .dataframe tbody tr th {\n",
       "        vertical-align: top;\n",
       "    }\n",
       "\n",
       "    .dataframe thead th {\n",
       "        text-align: right;\n",
       "    }\n",
       "</style>\n",
       "<table border=\"1\" class=\"dataframe\">\n",
       "  <thead>\n",
       "    <tr style=\"text-align: right;\">\n",
       "      <th></th>\n",
       "      <th>0</th>\n",
       "      <th>1</th>\n",
       "      <th>2</th>\n",
       "      <th>3</th>\n",
       "      <th>4</th>\n",
       "    </tr>\n",
       "  </thead>\n",
       "  <tbody>\n",
       "    <tr>\n",
       "      <th>pays</th>\n",
       "      <td>Norvège</td>\n",
       "      <td>Royaume-Uni</td>\n",
       "      <td>Danemark</td>\n",
       "      <td>Italie</td>\n",
       "      <td>France</td>\n",
       "    </tr>\n",
       "    <tr>\n",
       "      <th>qté_déchets</th>\n",
       "      <td>0.0285</td>\n",
       "      <td>2490</td>\n",
       "      <td>249000</td>\n",
       "      <td>17830</td>\n",
       "      <td>22</td>\n",
       "    </tr>\n",
       "    <tr>\n",
       "      <th>unité</th>\n",
       "      <td>Tonne</td>\n",
       "      <td>dag</td>\n",
       "      <td>dg</td>\n",
       "      <td>g</td>\n",
       "      <td>kg</td>\n",
       "    </tr>\n",
       "  </tbody>\n",
       "</table>\n",
       "</div>"
      ],
      "text/plain": [
       "                   0            1         2       3       4\n",
       "pays         Norvège  Royaume-Uni  Danemark  Italie  France\n",
       "qté_déchets   0.0285         2490    249000   17830      22\n",
       "unité          Tonne          dag        dg       g      kg"
      ]
     },
     "execution_count": 5,
     "metadata": {},
     "output_type": "execute_result"
    }
   ],
   "source": [
    "popFR = 67000000\n",
    "dataDM2[4].loc[\"unité\"] = \"kg\"\n",
    "dataDM2[4].loc[\"qté_déchets\"] = round(dechet_total/popFR)\n",
    "dataDM2.head()"
   ]
  },
  {
   "cell_type": "markdown",
   "id": "df09f48e",
   "metadata": {},
   "source": [
    "### Question 3 : classement des pays en fonction de leurs déchets électroniques"
   ]
  },
  {
   "cell_type": "code",
   "execution_count": 6,
   "id": "d1859bbc",
   "metadata": {},
   "outputs": [],
   "source": [
    "# pour classer c'est mieux de tourner le tableau\n",
    "dataDM2 = dataDM2.transpose()"
   ]
  },
  {
   "cell_type": "code",
   "execution_count": 7,
   "id": "3ef3bdb1",
   "metadata": {},
   "outputs": [],
   "source": [
    "#on convertie tout dans une unité comnmune\n",
    "\n",
    "dataDM2.loc[dataDM2[\"unité\"] == \"Tonne\",[\"qté_déchets\"]] *= 1000\n",
    "dataDM2.loc[dataDM2[\"unité\"] == \"dag\",[\"qté_déchets\"]] /= 100\n",
    "dataDM2.loc[dataDM2[\"unité\"] == \"dg\",[\"qté_déchets\"]] /= 10000\n",
    "dataDM2.loc[dataDM2[\"unité\"] == \"g\",[\"qté_déchets\"]] /= 1000\n",
    "\n",
    "#ne pas oublier de mettre la colonne unité en Kg\n",
    "dataDM2[\"unité\"] = \"kg\"\n",
    "\n",
    "#Maintenant le classement\n",
    "dataDM2[\"rang\"] = round(dataDM2[\"qté_déchets\"].rank(method=\"min\",ascending=False))\n",
    "dataDM2 = dataDM2.sort_values(by=\"qté_déchets\",ascending=False)\n",
    "dataDM2 = dataDM2.reset_index(drop=True)"
   ]
  },
  {
   "cell_type": "code",
   "execution_count": 8,
   "id": "58f6303f",
   "metadata": {},
   "outputs": [
    {
     "data": {
      "text/html": [
       "<div>\n",
       "<style scoped>\n",
       "    .dataframe tbody tr th:only-of-type {\n",
       "        vertical-align: middle;\n",
       "    }\n",
       "\n",
       "    .dataframe tbody tr th {\n",
       "        vertical-align: top;\n",
       "    }\n",
       "\n",
       "    .dataframe thead th {\n",
       "        text-align: right;\n",
       "    }\n",
       "</style>\n",
       "<table border=\"1\" class=\"dataframe\">\n",
       "  <thead>\n",
       "    <tr style=\"text-align: right;\">\n",
       "      <th></th>\n",
       "      <th>pays</th>\n",
       "      <th>qté_déchets</th>\n",
       "      <th>unité</th>\n",
       "      <th>rang</th>\n",
       "    </tr>\n",
       "  </thead>\n",
       "  <tbody>\n",
       "    <tr>\n",
       "      <th>0</th>\n",
       "      <td>Norvège</td>\n",
       "      <td>28.5</td>\n",
       "      <td>kg</td>\n",
       "      <td>1.0</td>\n",
       "    </tr>\n",
       "    <tr>\n",
       "      <th>1</th>\n",
       "      <td>Royaume-Uni</td>\n",
       "      <td>24.9</td>\n",
       "      <td>kg</td>\n",
       "      <td>2.0</td>\n",
       "    </tr>\n",
       "    <tr>\n",
       "      <th>2</th>\n",
       "      <td>Danemark</td>\n",
       "      <td>24.9</td>\n",
       "      <td>kg</td>\n",
       "      <td>2.0</td>\n",
       "    </tr>\n",
       "    <tr>\n",
       "      <th>3</th>\n",
       "      <td>France</td>\n",
       "      <td>22</td>\n",
       "      <td>kg</td>\n",
       "      <td>4.0</td>\n",
       "    </tr>\n",
       "    <tr>\n",
       "      <th>4</th>\n",
       "      <td>Italie</td>\n",
       "      <td>17.83</td>\n",
       "      <td>kg</td>\n",
       "      <td>5.0</td>\n",
       "    </tr>\n",
       "  </tbody>\n",
       "</table>\n",
       "</div>"
      ],
      "text/plain": [
       "          pays qté_déchets unité  rang\n",
       "0      Norvège        28.5    kg   1.0\n",
       "1  Royaume-Uni        24.9    kg   2.0\n",
       "2     Danemark        24.9    kg   2.0\n",
       "3       France          22    kg   4.0\n",
       "4       Italie       17.83    kg   5.0"
      ]
     },
     "execution_count": 8,
     "metadata": {},
     "output_type": "execute_result"
    }
   ],
   "source": [
    "#affichage du top 5\n",
    "dataDM2.head()"
   ]
  },
  {
   "cell_type": "code",
   "execution_count": null,
   "id": "6ab75d3e",
   "metadata": {},
   "outputs": [],
   "source": []
  }
 ],
 "metadata": {
  "kernelspec": {
   "display_name": "Python 3 (ipykernel)",
   "language": "python",
   "name": "python3"
  },
  "language_info": {
   "codemirror_mode": {
    "name": "ipython",
    "version": 3
   },
   "file_extension": ".py",
   "mimetype": "text/x-python",
   "name": "python",
   "nbconvert_exporter": "python",
   "pygments_lexer": "ipython3",
   "version": "3.9.12"
  }
 },
 "nbformat": 4,
 "nbformat_minor": 5
}
