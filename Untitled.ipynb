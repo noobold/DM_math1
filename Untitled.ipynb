{
 "cells": [
  {
   "cell_type": "markdown",
   "id": "5846c5dd",
   "metadata": {},
   "source": [
    "## DM numéro 1 classe 5B\n",
    "Importation des bibliothèques python"
   ]
  },
  {
   "cell_type": "code",
   "execution_count": 1,
   "id": "c5c578b2",
   "metadata": {},
   "outputs": [],
   "source": [
    "import pandas as pd\n",
    "from IPython.display import display"
   ]
  },
  {
   "cell_type": "markdown",
   "id": "c4e8b832",
   "metadata": {},
   "source": [
    "Importation du fichiers csv"
   ]
  },
  {
   "cell_type": "code",
   "execution_count": 2,
   "id": "27d40954",
   "metadata": {},
   "outputs": [
    {
     "data": {
      "text/html": [
       "<div>\n",
       "<style scoped>\n",
       "    .dataframe tbody tr th:only-of-type {\n",
       "        vertical-align: middle;\n",
       "    }\n",
       "\n",
       "    .dataframe tbody tr th {\n",
       "        vertical-align: top;\n",
       "    }\n",
       "\n",
       "    .dataframe thead th {\n",
       "        text-align: right;\n",
       "    }\n",
       "</style>\n",
       "<table border=\"1\" class=\"dataframe\">\n",
       "  <thead>\n",
       "    <tr style=\"text-align: right;\">\n",
       "      <th></th>\n",
       "      <th>épreuves</th>\n",
       "      <th>Louise</th>\n",
       "      <th>Amira</th>\n",
       "      <th>Allison</th>\n",
       "      <th>Sara</th>\n",
       "    </tr>\n",
       "  </thead>\n",
       "  <tbody>\n",
       "    <tr>\n",
       "      <th>0</th>\n",
       "      <td>100 m haies</td>\n",
       "      <td>15''02</td>\n",
       "      <td>16''27</td>\n",
       "      <td>14''59</td>\n",
       "      <td>14’´58</td>\n",
       "    </tr>\n",
       "    <tr>\n",
       "      <th>1</th>\n",
       "      <td>hauteur</td>\n",
       "      <td>1,6 m</td>\n",
       "      <td>1,62 m</td>\n",
       "      <td>1,59 m</td>\n",
       "      <td>1.47 m</td>\n",
       "    </tr>\n",
       "    <tr>\n",
       "      <th>2</th>\n",
       "      <td>poids</td>\n",
       "      <td>8,40 m</td>\n",
       "      <td>9,74 m</td>\n",
       "      <td>6,88 m</td>\n",
       "      <td>8,13 m</td>\n",
       "    </tr>\n",
       "    <tr>\n",
       "      <th>3</th>\n",
       "      <td>200 m</td>\n",
       "      <td>26´´63</td>\n",
       "      <td>27´´21</td>\n",
       "      <td>25´´73</td>\n",
       "      <td>26´´66</td>\n",
       "    </tr>\n",
       "    <tr>\n",
       "      <th>4</th>\n",
       "      <td>longueur</td>\n",
       "      <td>5,37 m</td>\n",
       "      <td>5,2 m</td>\n",
       "      <td>4,42 m</td>\n",
       "      <td>4,82 m</td>\n",
       "    </tr>\n",
       "    <tr>\n",
       "      <th>5</th>\n",
       "      <td>javelot</td>\n",
       "      <td>33,87 m</td>\n",
       "      <td>20,16 m</td>\n",
       "      <td>17,40 m</td>\n",
       "      <td>25,98 m</td>\n",
       "    </tr>\n",
       "    <tr>\n",
       "      <th>6</th>\n",
       "      <td>800 m</td>\n",
       "      <td>2´36´´78</td>\n",
       "      <td>2´38´´92</td>\n",
       "      <td>2´38´´82</td>\n",
       "      <td>2´30´´20</td>\n",
       "    </tr>\n",
       "  </tbody>\n",
       "</table>\n",
       "</div>"
      ],
      "text/plain": [
       "      épreuves    Louise     Amira   Allison      Sara\n",
       "0  100 m haies    15''02    16''27    14''59    14’´58\n",
       "1      hauteur     1,6 m    1,62 m    1,59 m    1.47 m\n",
       "2        poids    8,40 m    9,74 m    6,88 m    8,13 m\n",
       "3        200 m    26´´63    27´´21    25´´73    26´´66\n",
       "4     longueur    5,37 m     5,2 m    4,42 m    4,82 m\n",
       "5      javelot   33,87 m   20,16 m   17,40 m   25,98 m\n",
       "6        800 m  2´36´´78  2´38´´92  2´38´´82  2´30´´20"
      ]
     },
     "metadata": {},
     "output_type": "display_data"
    }
   ],
   "source": [
    "tableau_resultat = pd.read_csv(\"DM1.csv\")\n",
    "#affichage tableau pour verification\n",
    "display(tableau_resultat.head(10))"
   ]
  },
  {
   "cell_type": "markdown",
   "id": "6c3b09ee",
   "metadata": {},
   "source": [
    "Je retourne le tableau."
   ]
  },
  {
   "cell_type": "code",
   "execution_count": 3,
   "id": "8dca805f",
   "metadata": {},
   "outputs": [
    {
     "data": {
      "text/html": [
       "<div>\n",
       "<style scoped>\n",
       "    .dataframe tbody tr th:only-of-type {\n",
       "        vertical-align: middle;\n",
       "    }\n",
       "\n",
       "    .dataframe tbody tr th {\n",
       "        vertical-align: top;\n",
       "    }\n",
       "\n",
       "    .dataframe thead th {\n",
       "        text-align: right;\n",
       "    }\n",
       "</style>\n",
       "<table border=\"1\" class=\"dataframe\">\n",
       "  <thead>\n",
       "    <tr style=\"text-align: right;\">\n",
       "      <th></th>\n",
       "      <th>100 m haies</th>\n",
       "      <th>hauteur</th>\n",
       "      <th>poids</th>\n",
       "      <th>200 m</th>\n",
       "      <th>longueur</th>\n",
       "      <th>javelot</th>\n",
       "      <th>800 m</th>\n",
       "    </tr>\n",
       "  </thead>\n",
       "  <tbody>\n",
       "    <tr>\n",
       "      <th>Louise</th>\n",
       "      <td>15''02</td>\n",
       "      <td>1,6 m</td>\n",
       "      <td>8,40 m</td>\n",
       "      <td>26´´63</td>\n",
       "      <td>5,37 m</td>\n",
       "      <td>33,87 m</td>\n",
       "      <td>2´36´´78</td>\n",
       "    </tr>\n",
       "    <tr>\n",
       "      <th>Amira</th>\n",
       "      <td>16''27</td>\n",
       "      <td>1,62 m</td>\n",
       "      <td>9,74 m</td>\n",
       "      <td>27´´21</td>\n",
       "      <td>5,2 m</td>\n",
       "      <td>20,16 m</td>\n",
       "      <td>2´38´´92</td>\n",
       "    </tr>\n",
       "    <tr>\n",
       "      <th>Allison</th>\n",
       "      <td>14''59</td>\n",
       "      <td>1,59 m</td>\n",
       "      <td>6,88 m</td>\n",
       "      <td>25´´73</td>\n",
       "      <td>4,42 m</td>\n",
       "      <td>17,40 m</td>\n",
       "      <td>2´38´´82</td>\n",
       "    </tr>\n",
       "    <tr>\n",
       "      <th>Sara</th>\n",
       "      <td>14’´58</td>\n",
       "      <td>1.47 m</td>\n",
       "      <td>8,13 m</td>\n",
       "      <td>26´´66</td>\n",
       "      <td>4,82 m</td>\n",
       "      <td>25,98 m</td>\n",
       "      <td>2´30´´20</td>\n",
       "    </tr>\n",
       "  </tbody>\n",
       "</table>\n",
       "</div>"
      ],
      "text/plain": [
       "        100 m haies hauteur   poids   200 m longueur  javelot     800 m\n",
       "Louise       15''02   1,6 m  8,40 m  26´´63   5,37 m  33,87 m  2´36´´78\n",
       "Amira        16''27  1,62 m  9,74 m  27´´21    5,2 m  20,16 m  2´38´´92\n",
       "Allison      14''59  1,59 m  6,88 m  25´´73   4,42 m  17,40 m  2´38´´82\n",
       "Sara         14’´58  1.47 m  8,13 m  26´´66   4,82 m  25,98 m  2´30´´20"
      ]
     },
     "metadata": {},
     "output_type": "display_data"
    }
   ],
   "source": [
    "tableau_resultat = tableau_resultat.transpose()\n",
    "tableau_resultat  = tableau_resultat.rename(columns=tableau_resultat.iloc[0])\n",
    "tableau_resultat = tableau_resultat.drop(\"épreuves\")\n",
    "display(tableau_resultat)"
   ]
  },
  {
   "cell_type": "markdown",
   "id": "52b2f827",
   "metadata": {},
   "source": [
    "Affichage des attributs du tableau"
   ]
  },
  {
   "cell_type": "code",
   "execution_count": 4,
   "id": "04453744",
   "metadata": {},
   "outputs": [
    {
     "name": "stdout",
     "output_type": "stream",
     "text": [
      "<class 'pandas.core.frame.DataFrame'>\n",
      "Index: 4 entries, Louise to Sara\n",
      "Data columns (total 7 columns):\n",
      " #   Column       Non-Null Count  Dtype \n",
      "---  ------       --------------  ----- \n",
      " 0   100 m haies  4 non-null      object\n",
      " 1   hauteur      4 non-null      object\n",
      " 2   poids        4 non-null      object\n",
      " 3   200 m        4 non-null      object\n",
      " 4   longueur     4 non-null      object\n",
      " 5   javelot      4 non-null      object\n",
      " 6   800 m        4 non-null      object\n",
      "dtypes: object(7)\n",
      "memory usage: 256.0+ bytes\n"
     ]
    },
    {
     "data": {
      "text/plain": [
       "None"
      ]
     },
     "metadata": {},
     "output_type": "display_data"
    }
   ],
   "source": [
    "display(tableau_resultat.info())"
   ]
  },
  {
   "cell_type": "markdown",
   "id": "3e7c68ab",
   "metadata": {},
   "source": [
    "Il n'y a que des chaines de caracteres. Dur de faire un classement avec ca.</br>\n",
    "changement dans le tableau:</br>\n",
    "mettre les distances au bon format</br>\n",
    "mettre les temps dans la même unité"
   ]
  },
  {
   "cell_type": "code",
   "execution_count": 5,
   "id": "6f6f344b",
   "metadata": {},
   "outputs": [],
   "source": [
    "#definition de fonction\n",
    "\n",
    "def enlever_le_m_virgule(mot):\n",
    "    # enlever le m puis et remplace la virgule par un point\n",
    "    mot = mot[:-2]\n",
    "    return float(mot.replace(\",\",\".\"))\n",
    "\n",
    "tableau_resultat[\"hauteur\"] = tableau_resultat['hauteur'].apply(enlever_le_m_virgule)\n",
    "tableau_resultat[\"longueur\"] = tableau_resultat['longueur'].apply(enlever_le_m_virgule)\n",
    "tableau_resultat[\"javelot\"] = tableau_resultat['javelot'].apply(enlever_le_m_virgule)\n",
    "tableau_resultat[\"poids\"] = tableau_resultat['poids'].apply(enlever_le_m_virgule)"
   ]
  },
  {
   "cell_type": "code",
   "execution_count": 6,
   "id": "16e1d055",
   "metadata": {},
   "outputs": [
    {
     "data": {
      "text/html": [
       "<div>\n",
       "<style scoped>\n",
       "    .dataframe tbody tr th:only-of-type {\n",
       "        vertical-align: middle;\n",
       "    }\n",
       "\n",
       "    .dataframe tbody tr th {\n",
       "        vertical-align: top;\n",
       "    }\n",
       "\n",
       "    .dataframe thead th {\n",
       "        text-align: right;\n",
       "    }\n",
       "</style>\n",
       "<table border=\"1\" class=\"dataframe\">\n",
       "  <thead>\n",
       "    <tr style=\"text-align: right;\">\n",
       "      <th></th>\n",
       "      <th>100 m haies</th>\n",
       "      <th>hauteur</th>\n",
       "      <th>poids</th>\n",
       "      <th>200 m</th>\n",
       "      <th>longueur</th>\n",
       "      <th>javelot</th>\n",
       "      <th>800 m</th>\n",
       "    </tr>\n",
       "  </thead>\n",
       "  <tbody>\n",
       "    <tr>\n",
       "      <th>Louise</th>\n",
       "      <td>1502</td>\n",
       "      <td>1.60</td>\n",
       "      <td>8.40</td>\n",
       "      <td>2663</td>\n",
       "      <td>5.37</td>\n",
       "      <td>33.87</td>\n",
       "      <td>3798</td>\n",
       "    </tr>\n",
       "    <tr>\n",
       "      <th>Amira</th>\n",
       "      <td>1627</td>\n",
       "      <td>1.62</td>\n",
       "      <td>9.74</td>\n",
       "      <td>2721</td>\n",
       "      <td>5.20</td>\n",
       "      <td>20.16</td>\n",
       "      <td>4012</td>\n",
       "    </tr>\n",
       "    <tr>\n",
       "      <th>Allison</th>\n",
       "      <td>1459</td>\n",
       "      <td>1.59</td>\n",
       "      <td>6.88</td>\n",
       "      <td>2573</td>\n",
       "      <td>4.42</td>\n",
       "      <td>17.40</td>\n",
       "      <td>4002</td>\n",
       "    </tr>\n",
       "    <tr>\n",
       "      <th>Sara</th>\n",
       "      <td>1458</td>\n",
       "      <td>1.47</td>\n",
       "      <td>8.13</td>\n",
       "      <td>2666</td>\n",
       "      <td>4.82</td>\n",
       "      <td>25.98</td>\n",
       "      <td>3140</td>\n",
       "    </tr>\n",
       "  </tbody>\n",
       "</table>\n",
       "</div>"
      ],
      "text/plain": [
       "         100 m haies  hauteur  poids  200 m  longueur  javelot  800 m\n",
       "Louise          1502     1.60   8.40   2663      5.37    33.87   3798\n",
       "Amira           1627     1.62   9.74   2721      5.20    20.16   4012\n",
       "Allison         1459     1.59   6.88   2573      4.42    17.40   4002\n",
       "Sara            1458     1.47   8.13   2666      4.82    25.98   3140"
      ]
     },
     "metadata": {},
     "output_type": "display_data"
    }
   ],
   "source": [
    "def mettre_seconde_en_centieme(mot):\n",
    "    seconde = mot[:-4]    \n",
    "    centieme = mot[-2:]    \n",
    "    return (int(seconde)*100+int(centieme))\n",
    "\n",
    "def mettre_minute_en_centieme(mot):\n",
    "    minute = mot[:-7]  \n",
    "    centieme=mettre_seconde_en_centieme(mot[-6:])\n",
    "    return (int(minute)*60+centieme)\n",
    "\n",
    "tableau_resultat[\"200 m\"] = tableau_resultat['200 m'].apply(mettre_seconde_en_centieme)\n",
    "tableau_resultat[\"100 m haies\"] = tableau_resultat['100 m haies'].apply(mettre_seconde_en_centieme)\n",
    "tableau_resultat[\"800 m\"] = tableau_resultat['800 m'].apply(mettre_minute_en_centieme)\n",
    "\n",
    "display(tableau_resultat)"
   ]
  },
  {
   "cell_type": "markdown",
   "id": "b85b3f6a",
   "metadata": {},
   "source": [
    "après tout ça on peut commencer à faire le classement"
   ]
  },
  {
   "cell_type": "code",
   "execution_count": 7,
   "id": "9aa4f395",
   "metadata": {},
   "outputs": [
    {
     "data": {
      "text/html": [
       "<div>\n",
       "<style scoped>\n",
       "    .dataframe tbody tr th:only-of-type {\n",
       "        vertical-align: middle;\n",
       "    }\n",
       "\n",
       "    .dataframe tbody tr th {\n",
       "        vertical-align: top;\n",
       "    }\n",
       "\n",
       "    .dataframe thead th {\n",
       "        text-align: right;\n",
       "    }\n",
       "</style>\n",
       "<table border=\"1\" class=\"dataframe\">\n",
       "  <thead>\n",
       "    <tr style=\"text-align: right;\">\n",
       "      <th></th>\n",
       "      <th>100 m haies</th>\n",
       "      <th>hauteur</th>\n",
       "      <th>poids</th>\n",
       "      <th>200 m</th>\n",
       "      <th>longueur</th>\n",
       "      <th>javelot</th>\n",
       "      <th>800 m</th>\n",
       "      <th>rang 100 m haies</th>\n",
       "      <th>rang hauteur</th>\n",
       "      <th>rang poids</th>\n",
       "      <th>rang 200 m</th>\n",
       "      <th>rang longueur</th>\n",
       "      <th>rang javelot</th>\n",
       "      <th>rang 800 m</th>\n",
       "      <th>nbrepoint</th>\n",
       "    </tr>\n",
       "  </thead>\n",
       "  <tbody>\n",
       "    <tr>\n",
       "      <th>Louise</th>\n",
       "      <td>1502</td>\n",
       "      <td>1.60</td>\n",
       "      <td>8.40</td>\n",
       "      <td>2663</td>\n",
       "      <td>5.37</td>\n",
       "      <td>33.87</td>\n",
       "      <td>3798</td>\n",
       "      <td>2.0</td>\n",
       "      <td>3.0</td>\n",
       "      <td>3.0</td>\n",
       "      <td>3.0</td>\n",
       "      <td>4.0</td>\n",
       "      <td>4.0</td>\n",
       "      <td>3.0</td>\n",
       "      <td>22.0</td>\n",
       "    </tr>\n",
       "    <tr>\n",
       "      <th>Sara</th>\n",
       "      <td>1458</td>\n",
       "      <td>1.47</td>\n",
       "      <td>8.13</td>\n",
       "      <td>2666</td>\n",
       "      <td>4.82</td>\n",
       "      <td>25.98</td>\n",
       "      <td>3140</td>\n",
       "      <td>4.0</td>\n",
       "      <td>1.0</td>\n",
       "      <td>2.0</td>\n",
       "      <td>2.0</td>\n",
       "      <td>2.0</td>\n",
       "      <td>3.0</td>\n",
       "      <td>4.0</td>\n",
       "      <td>18.0</td>\n",
       "    </tr>\n",
       "    <tr>\n",
       "      <th>Amira</th>\n",
       "      <td>1627</td>\n",
       "      <td>1.62</td>\n",
       "      <td>9.74</td>\n",
       "      <td>2721</td>\n",
       "      <td>5.20</td>\n",
       "      <td>20.16</td>\n",
       "      <td>4012</td>\n",
       "      <td>1.0</td>\n",
       "      <td>4.0</td>\n",
       "      <td>4.0</td>\n",
       "      <td>1.0</td>\n",
       "      <td>3.0</td>\n",
       "      <td>2.0</td>\n",
       "      <td>1.0</td>\n",
       "      <td>16.0</td>\n",
       "    </tr>\n",
       "    <tr>\n",
       "      <th>Allison</th>\n",
       "      <td>1459</td>\n",
       "      <td>1.59</td>\n",
       "      <td>6.88</td>\n",
       "      <td>2573</td>\n",
       "      <td>4.42</td>\n",
       "      <td>17.40</td>\n",
       "      <td>4002</td>\n",
       "      <td>3.0</td>\n",
       "      <td>2.0</td>\n",
       "      <td>1.0</td>\n",
       "      <td>4.0</td>\n",
       "      <td>1.0</td>\n",
       "      <td>1.0</td>\n",
       "      <td>2.0</td>\n",
       "      <td>14.0</td>\n",
       "    </tr>\n",
       "  </tbody>\n",
       "</table>\n",
       "</div>"
      ],
      "text/plain": [
       "         100 m haies  hauteur  poids  200 m  longueur  javelot  800 m  \\\n",
       "Louise          1502     1.60   8.40   2663      5.37    33.87   3798   \n",
       "Sara            1458     1.47   8.13   2666      4.82    25.98   3140   \n",
       "Amira           1627     1.62   9.74   2721      5.20    20.16   4012   \n",
       "Allison         1459     1.59   6.88   2573      4.42    17.40   4002   \n",
       "\n",
       "         rang 100 m haies  rang hauteur  rang poids  rang 200 m  \\\n",
       "Louise                2.0           3.0         3.0         3.0   \n",
       "Sara                  4.0           1.0         2.0         2.0   \n",
       "Amira                 1.0           4.0         4.0         1.0   \n",
       "Allison               3.0           2.0         1.0         4.0   \n",
       "\n",
       "         rang longueur  rang javelot  rang 800 m  nbrepoint  \n",
       "Louise             4.0           4.0         3.0       22.0  \n",
       "Sara               2.0           3.0         4.0       18.0  \n",
       "Amira              3.0           2.0         1.0       16.0  \n",
       "Allison            1.0           1.0         2.0       14.0  "
      ]
     },
     "metadata": {},
     "output_type": "display_data"
    }
   ],
   "source": [
    "#ranker les epreuves\n",
    "tableau_resultat['rang 100 m haies'] = tableau_resultat['100 m haies'].rank(method='max',ascending=False)\n",
    "tableau_resultat['rang hauteur'] = tableau_resultat['hauteur'].rank(method='max')\n",
    "tableau_resultat['rang poids'] = tableau_resultat['poids'].rank(method='max')\n",
    "tableau_resultat['rang 200 m'] = tableau_resultat['200 m'].rank(method='max',ascending=False)\n",
    "tableau_resultat['rang longueur'] = tableau_resultat['longueur'].rank(method='max')\n",
    "tableau_resultat['rang javelot'] = tableau_resultat['javelot'].rank(method='max')\n",
    "tableau_resultat['rang 800 m'] = tableau_resultat['800 m'].rank(method='max',ascending=False)\n",
    "\n",
    "#additionner les points:\n",
    "tableau_resultat[\"nbrepoint\"] = (tableau_resultat[\"rang 100 m haies\"]\n",
    "                                +tableau_resultat[\"rang hauteur\"]\n",
    "                                +tableau_resultat[\"rang poids\"]\n",
    "                                +tableau_resultat[\"rang 200 m\"]\n",
    "                                +tableau_resultat[\"rang longueur\"]\n",
    "                                +tableau_resultat[\"rang javelot\"]\n",
    "                                +tableau_resultat[\"rang 800 m\"]\n",
    "                                )\n",
    "# classer les resultats\n",
    "tableau_resultat = tableau_resultat.sort_values(by=\"nbrepoint\",ascending=False)\n",
    "#affichage tableau\n",
    "display(tableau_resultat)\n"
   ]
  },
  {
   "cell_type": "markdown",
   "id": "6c58e745",
   "metadata": {},
   "source": [
    "le classement des athletes est le suivant :"
   ]
  },
  {
   "cell_type": "code",
   "execution_count": 8,
   "id": "c0ab6345",
   "metadata": {},
   "outputs": [
    {
     "data": {
      "text/plain": [
       "'Louise'"
      ]
     },
     "metadata": {},
     "output_type": "display_data"
    },
    {
     "data": {
      "text/plain": [
       "'Sara'"
      ]
     },
     "metadata": {},
     "output_type": "display_data"
    },
    {
     "data": {
      "text/plain": [
       "'Amira'"
      ]
     },
     "metadata": {},
     "output_type": "display_data"
    },
    {
     "data": {
      "text/plain": [
       "'Allison'"
      ]
     },
     "metadata": {},
     "output_type": "display_data"
    }
   ],
   "source": [
    "liste_gagnant = tableau_resultat.index.to_list()\n",
    "for a in liste_gagnant:\n",
    "    display(a)"
   ]
  }
 ],
 "metadata": {
  "hide_input": false,
  "kernelspec": {
   "display_name": "Python 3.9.7 64-bit",
   "language": "python",
   "name": "python3"
  },
  "language_info": {
   "codemirror_mode": {
    "name": "ipython",
    "version": 3
   },
   "file_extension": ".py",
   "mimetype": "text/x-python",
   "name": "python",
   "nbconvert_exporter": "python",
   "pygments_lexer": "ipython3",
   "version": "3.9.7"
  },
  "vscode": {
   "interpreter": {
    "hash": "c882bb88e1a346ad624a68a331818b1e4dc4e6219eecd0aea481c3540125ff14"
   }
  }
 },
 "nbformat": 4,
 "nbformat_minor": 5
}
